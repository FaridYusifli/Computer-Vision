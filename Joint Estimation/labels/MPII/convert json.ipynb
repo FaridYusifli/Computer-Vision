{
 "cells": [
  {
   "cell_type": "code",
   "execution_count": 1,
   "metadata": {},
   "outputs": [],
   "source": [
    "import json\n",
    "with open('mpii_annotations.json') as json_file: \n",
    "    mpii = json.load(json_file)\n",
    "#mpii_copy = mpii.copy()\n",
    "with open('mpii_annotations.json') as json_file: \n",
    "    mpii_copy = json.load(json_file)"
   ]
  },
  {
   "cell_type": "code",
   "execution_count": 2,
   "metadata": {},
   "outputs": [],
   "source": [
    "for i in range(len(mpii)):\n",
    "    mpii[i]['joint_self'] = mpii[i]['joint_self'][:6]+mpii[i]['joint_self'][8:]\n",
    "    mpii[i]['joint_self'] = mpii[i]['joint_self'][:6]+mpii[i]['joint_self'][12:]+mpii[i]['joint_self'][6:12]\n",
    "    if (mpii[i]['numOtherPeople']==1.0):\n",
    "        mpii[i]['joint_others'] = mpii[i]['joint_others'][:6]+mpii[i]['joint_others'][8:]\n",
    "        mpii[i]['joint_others'] = mpii[i]['joint_others'][:6]+mpii[i]['joint_others'][12:]+mpii[i]['joint_others'][6:12]\n",
    "\n",
    "    elif (mpii[i]['numOtherPeople']>=2.0):\n",
    "        for j in range(len(mpii[i]['joint_others'])):\n",
    "            mpii[i]['joint_others'][j] = mpii[i]['joint_others'][j][:6]+mpii[i]['joint_others'][j][8:]\n",
    "            mpii[i]['joint_others'][j] = mpii[i]['joint_others'][j][:6]+mpii[i]['joint_others'][j][12:]\\\n",
    "            +mpii[i]['joint_others'][j][6:12]"
   ]
  },
  {
   "cell_type": "code",
   "execution_count": 5,
   "metadata": {},
   "outputs": [],
   "source": [
    "with open(\"bitch.json\", \"w\") as write_file:\n",
    "    json.dump(mpii, write_file)"
   ]
  },
  {
   "cell_type": "code",
   "execution_count": null,
   "metadata": {},
   "outputs": [],
   "source": []
  },
  {
   "cell_type": "code",
   "execution_count": null,
   "metadata": {},
   "outputs": [],
   "source": [
    "aaa = [0,1,2,3,4,5,6,7,8,9,10,11,12,13]"
   ]
  },
  {
   "cell_type": "code",
   "execution_count": null,
   "metadata": {},
   "outputs": [],
   "source": [
    "aaa[:6]+aaa[12:]+aaa[6:12]"
   ]
  },
  {
   "cell_type": "code",
   "execution_count": null,
   "metadata": {},
   "outputs": [],
   "source": [
    "aaa[12:]"
   ]
  }
 ],
 "metadata": {
  "kernelspec": {
   "display_name": "Python 3",
   "language": "python",
   "name": "python3"
  },
  "language_info": {
   "codemirror_mode": {
    "name": "ipython",
    "version": 3
   },
   "file_extension": ".py",
   "mimetype": "text/x-python",
   "name": "python",
   "nbconvert_exporter": "python",
   "pygments_lexer": "ipython3",
   "version": "3.6.8"
  }
 },
 "nbformat": 4,
 "nbformat_minor": 2
}
